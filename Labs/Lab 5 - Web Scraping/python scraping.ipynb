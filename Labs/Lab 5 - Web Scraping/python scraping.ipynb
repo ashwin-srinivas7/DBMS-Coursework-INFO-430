{
 "cells": [
  {
   "cell_type": "code",
   "execution_count": 35,
   "metadata": {},
   "outputs": [],
   "source": [
    "import pyodbc\n",
    "import requests as r\n",
    "from bs4 import BeautifulSoup as bs\n",
    "\n",
    "domain='http://books.toscrape.com/'\n",
    "\n",
    "frontpage=r.get(domain)\n",
    "# frontpagescrape=bs(frontpage.content, 'html.parser')\n",
    "\n",
    "# print(frontpage.text)\n",
    "totalpages=50\n",
    "\n",
    "i=1\n",
    "links=[]\n",
    "title=[]\n",
    "\n",
    "for pageurl in [domain+'catalogue/page-'+str(i)+'.html']:\n",
    "    for i in range(1,totalpages+1):\n",
    "        page=r.get(pageurl)\n",
    "        pagescrape=bs(page.content,'html.parser')      \n",
    "        container=pagescrape.select('h3 a')\n",
    "        links.extend([domain+'catalogue/'+i['href'] for i in container])"
   ]
  },
  {
   "cell_type": "code",
   "execution_count": null,
   "metadata": {},
   "outputs": [],
   "source": [
    "# CHECKING BEFORE PUSHING INTO LOOP\n",
    "test=[]\n",
    "page_book=r.get(links[0])\n",
    "page_book_scrape=bs(page_book.content,'html.parser')\n",
    "test.append (page_book_scrape.find('p').find_next('p').find_next('p').find_next('p').text)\n",
    "\n",
    "test\n",
    "\n",
    "#FOR GENRE\n",
    "#check ul, class=breadcrumbs, store in object ie. genre . fourth child in the tag -- genre[4]"
   ]
  },
  {
   "cell_type": "code",
   "execution_count": 17,
   "metadata": {},
   "outputs": [],
   "source": [
    "title=[]\n",
    "price=[]\n",
    "descr=[]\n",
    "genre=[]\n",
    "\n",
    "for j in links:\n",
    "    page_book=r.get(j)\n",
    "    page_book_scrape=bs(page_book.content,'html.parser')\n",
    "    title.append (page_book_scrape.find('title'))\n",
    "    price.append (page_book_scrape.find('p').text)\n",
    "    descr.append (page_book_scrape.find('p').find_next('p').find_next('p').find_next('p').text)\n",
    "    "
   ]
  },
  {
   "cell_type": "code",
   "execution_count": null,
   "metadata": {},
   "outputs": [],
   "source": [
    "cnxn = pyodbc.connect('DRIVER={ODBC Driver 13 for SQL Server};SERVER=IS-HAY04.ischool.uw.edu;DATABASE=yourNetID_BookDB;UID=info430;PWD=GoHuskies!;autocommit=True')"
   ]
  }
 ],
 "metadata": {
  "kernelspec": {
   "display_name": "Python 3",
   "language": "python",
   "name": "python3"
  },
  "language_info": {
   "codemirror_mode": {
    "name": "ipython",
    "version": 3
   },
   "file_extension": ".py",
   "mimetype": "text/x-python",
   "name": "python",
   "nbconvert_exporter": "python",
   "pygments_lexer": "ipython3",
   "version": "3.7.0"
  }
 },
 "nbformat": 4,
 "nbformat_minor": 2
}
